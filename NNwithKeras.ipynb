{
 "cells": [
  {
   "cell_type": "code",
   "execution_count": 1,
   "metadata": {},
   "outputs": [
    {
     "name": "stderr",
     "output_type": "stream",
     "text": [
      "Using TensorFlow backend.\n"
     ]
    }
   ],
   "source": [
    "import numpy as np\n",
    "import matplotlib.pyplot as plt\n",
    "%matplotlib inline\n",
    "from sklearn.datasets import make_circles\n",
    "import keras\n",
    "from keras.utils import np_utils\n",
    "from keras.layers import Dense, Activation\n",
    "from keras.models import Sequential"
   ]
  },
  {
   "cell_type": "code",
   "execution_count": 2,
   "metadata": {},
   "outputs": [
    {
     "name": "stdout",
     "output_type": "stream",
     "text": [
      "(1000, 2) (1000,)\n"
     ]
    }
   ],
   "source": [
    "X, y = make_circles(n_samples=1000, factor=0.5)\n",
    "print(X.shape, y.shape)"
   ]
  },
  {
   "cell_type": "code",
   "execution_count": 3,
   "metadata": {},
   "outputs": [
    {
     "data": {
      "image/png": "[encoded data removed]",
      "text/plain": [
       "<Figure size 432x288 with 1 Axes>"
      ]
     },
     "metadata": {},
     "output_type": "display_data"
    }
   ],
   "source": [
    "plt.scatter(X[:, 0], X[:, 1])\n",
    "plt.show()"
   ]
  },
  {
   "cell_type": "code",
   "execution_count": 4,
   "metadata": {},
   "outputs": [
    {
     "data": {
      "image/png": "[encoded data removed]",
      "text/plain": [
       "<Figure size 432x288 with 1 Axes>"
      ]
     },
     "metadata": {},
     "output_type": "display_data"
    }
   ],
   "source": [
    "for ix in range(X.shape[0]):\n",
    "    if y[ix] == 0:\n",
    "        plt.scatter(X[ix, 0], X[ix, 1], color='red')\n",
    "    else:\n",
    "        plt.scatter(X[ix, 0], X[ix, 1], color='green')\n",
    "\n",
    "plt.show()"
   ]
  },
  {
   "cell_type": "code",
   "execution_count": 5,
   "metadata": {},
   "outputs": [
    {
     "name": "stdout",
     "output_type": "stream",
     "text": [
      "(1000, 2)\n",
      "[0. 1.] --- 1\n",
      "[1. 0.] --- 0\n",
      "[0. 1.] --- 1\n",
      "[0. 1.] --- 1\n",
      "[1. 0.] --- 0\n",
      "[1. 0.] --- 0\n",
      "[1. 0.] --- 0\n",
      "[0. 1.] --- 1\n",
      "[1. 0.] --- 0\n",
      "[1. 0.] --- 0\n"
     ]
    }
   ],
   "source": [
    "Y = np_utils.to_categorical(y)\n",
    "print(Y.shape)\n",
    "\n",
    "for ix in range(10):\n",
    "    print(Y[ix], \"---\", y[ix])"
   ]
  },
  {
   "cell_type": "code",
   "execution_count": 6,
   "metadata": {},
   "outputs": [
    {
     "name": "stdout",
     "output_type": "stream",
     "text": [
      "(800, 2)\n"
     ]
    }
   ],
   "source": [
    "split = int(0.8*X.shape[0])\n",
    "X_train = X[:split,:]\n",
    "X_test = X[split:,:]\n",
    "\n",
    "y_train = Y[:split]\n",
    "y_test = Y[split:]\n",
    "\n",
    "print(X_train.shape)"
   ]
  },
  {
   "cell_type": "code",
   "execution_count": 7,
   "metadata": {},
   "outputs": [
    {
     "name": "stdout",
     "output_type": "stream",
     "text": [
      "_________________________________________________________________\n",
      "Layer (type)                 Output Shape              Param #   \n",
      "=================================================================\n",
      "dense_1 (Dense)              (None, 5)                 15        \n",
      "_________________________________________________________________\n",
      "activation_1 (Activation)    (None, 5)                 0         \n",
      "_________________________________________________________________\n",
      "dense_2 (Dense)              (None, 2)                 12        \n",
      "_________________________________________________________________\n",
      "activation_2 (Activation)    (None, 2)                 0         \n",
      "=================================================================\n",
      "Total params: 27\n",
      "Trainable params: 27\n",
      "Non-trainable params: 0\n",
      "_________________________________________________________________\n"
     ]
    }
   ],
   "source": [
    "## NN in keras\n",
    "model = Sequential()\n",
    "\n",
    "model.add(Dense(5,input_shape = (2,)))\n",
    "model.add(Activation('relu'))\n",
    "\n",
    "model.add(Dense(2))\n",
    "model.add(Activation('softmax'))\n",
    "\n",
    "model.summary()"
   ]
  },
  {
   "cell_type": "code",
   "execution_count": 8,
   "metadata": {},
   "outputs": [
    {
     "name": "stdout",
     "output_type": "stream",
     "text": [
      "_________________________________________________________________\n",
      "Layer (type)                 Output Shape              Param #   \n",
      "=================================================================\n",
      "dense_3 (Dense)              (None, 2)                 6         \n",
      "_________________________________________________________________\n",
      "dense_4 (Dense)              (None, 5)                 15        \n",
      "_________________________________________________________________\n",
      "dense_5 (Dense)              (None, 5)                 30        \n",
      "_________________________________________________________________\n",
      "dense_6 (Dense)              (None, 5)                 30        \n",
      "_________________________________________________________________\n",
      "dense_7 (Dense)              (None, 5)                 30        \n",
      "_________________________________________________________________\n",
      "dense_8 (Dense)              (None, 5)                 30        \n",
      "=================================================================\n",
      "Total params: 141\n",
      "Trainable params: 141\n",
      "Non-trainable params: 0\n",
      "_________________________________________________________________\n"
     ]
    }
   ],
   "source": [
    "model2 = Sequential()\n",
    "\n",
    "model2.add(Dense(2, input_shape=(2,)))\n",
    "for ix in range(5):\n",
    "    model2.add(Dense(5))\n",
    "model2.summary()"
   ]
  },
  {
   "cell_type": "code",
   "execution_count": 9,
   "metadata": {},
   "outputs": [],
   "source": [
    "model.compile(optimizer='adagrad', loss='categorical_crossentropy', metrics=['accuracy'])"
   ]
  },
  {
   "cell_type": "code",
   "execution_count": 10,
   "metadata": {},
   "outputs": [
    {
     "name": "stdout",
     "output_type": "stream",
     "text": [
      "Train on 800 samples, validate on 200 samples\n",
      "Epoch 1/100\n",
      " - 14s - loss: 0.6812 - acc: 0.5212 - val_loss: 0.6681 - val_acc: 0.5800\n",
      "Epoch 2/100\n",
      " - 0s - loss: 0.6718 - acc: 0.5737 - val_loss: 0.6620 - val_acc: 0.6150\n",
      "Epoch 3/100\n",
      " - 0s - loss: 0.6657 - acc: 0.6163 - val_loss: 0.6566 - val_acc: 0.6450\n",
      "Epoch 4/100\n",
      " - 0s - loss: 0.6607 - acc: 0.6375 - val_loss: 0.6521 - val_acc: 0.6650\n",
      "Epoch 5/100\n",
      " - 0s - loss: 0.6563 - acc: 0.6562 - val_loss: 0.6479 - val_acc: 0.6750\n",
      "Epoch 6/100\n",
      " - 0s - loss: 0.6515 - acc: 0.6888 - val_loss: 0.6440 - val_acc: 0.7200\n",
      "Epoch 7/100\n",
      " - 0s - loss: 0.6475 - acc: 0.7387 - val_loss: 0.6405 - val_acc: 0.7400\n",
      "Epoch 8/100\n",
      " - 0s - loss: 0.6439 - acc: 0.7425 - val_loss: 0.6376 - val_acc: 0.7450\n",
      "Epoch 9/100\n",
      " - 0s - loss: 0.6408 - acc: 0.7387 - val_loss: 0.6351 - val_acc: 0.7400\n",
      "Epoch 10/100\n",
      " - 0s - loss: 0.6381 - acc: 0.7413 - val_loss: 0.6327 - val_acc: 0.7450\n",
      "Epoch 11/100\n",
      " - 0s - loss: 0.6358 - acc: 0.7525 - val_loss: 0.6305 - val_acc: 0.7500\n",
      "Epoch 12/100\n",
      " - 0s - loss: 0.6334 - acc: 0.7488 - val_loss: 0.6283 - val_acc: 0.7600\n",
      "Epoch 13/100\n",
      " - 0s - loss: 0.6312 - acc: 0.7512 - val_loss: 0.6261 - val_acc: 0.7550\n",
      "Epoch 14/100\n",
      " - 0s - loss: 0.6290 - acc: 0.7575 - val_loss: 0.6240 - val_acc: 0.7550\n",
      "Epoch 15/100\n",
      " - 0s - loss: 0.6268 - acc: 0.7575 - val_loss: 0.6220 - val_acc: 0.7550\n",
      "Epoch 16/100\n",
      " - 0s - loss: 0.6246 - acc: 0.7587 - val_loss: 0.6201 - val_acc: 0.7550\n",
      "Epoch 17/100\n",
      " - 0s - loss: 0.6227 - acc: 0.7588 - val_loss: 0.6182 - val_acc: 0.7550\n",
      "Epoch 18/100\n",
      " - 0s - loss: 0.6207 - acc: 0.7637 - val_loss: 0.6164 - val_acc: 0.7550\n",
      "Epoch 19/100\n",
      " - 0s - loss: 0.6188 - acc: 0.7687 - val_loss: 0.6147 - val_acc: 0.7550\n",
      "Epoch 20/100\n",
      " - 0s - loss: 0.6170 - acc: 0.7725 - val_loss: 0.6130 - val_acc: 0.7500\n",
      "Epoch 21/100\n",
      " - 0s - loss: 0.6152 - acc: 0.7725 - val_loss: 0.6114 - val_acc: 0.7500\n",
      "Epoch 22/100\n",
      " - 0s - loss: 0.6134 - acc: 0.7750 - val_loss: 0.6098 - val_acc: 0.7600\n",
      "Epoch 23/100\n",
      " - 0s - loss: 0.6116 - acc: 0.7725 - val_loss: 0.6083 - val_acc: 0.7600\n",
      "Epoch 24/100\n",
      " - 0s - loss: 0.6100 - acc: 0.7750 - val_loss: 0.6067 - val_acc: 0.7700\n",
      "Epoch 25/100\n",
      " - 0s - loss: 0.6084 - acc: 0.7825 - val_loss: 0.6052 - val_acc: 0.7700\n",
      "Epoch 26/100\n",
      " - 0s - loss: 0.6067 - acc: 0.7838 - val_loss: 0.6036 - val_acc: 0.7700\n",
      "Epoch 27/100\n",
      " - 0s - loss: 0.6051 - acc: 0.7850 - val_loss: 0.6022 - val_acc: 0.7800\n",
      "Epoch 28/100\n",
      " - 0s - loss: 0.6035 - acc: 0.7850 - val_loss: 0.6007 - val_acc: 0.7800\n",
      "Epoch 29/100\n",
      " - 0s - loss: 0.6019 - acc: 0.7913 - val_loss: 0.5992 - val_acc: 0.7900\n",
      "Epoch 30/100\n",
      " - 0s - loss: 0.6004 - acc: 0.7888 - val_loss: 0.5978 - val_acc: 0.7900\n",
      "Epoch 31/100\n",
      " - 0s - loss: 0.5988 - acc: 0.7888 - val_loss: 0.5963 - val_acc: 0.7950\n",
      "Epoch 32/100\n",
      " - 0s - loss: 0.5974 - acc: 0.8012 - val_loss: 0.5947 - val_acc: 0.7950\n",
      "Epoch 33/100\n",
      " - 0s - loss: 0.5959 - acc: 0.8050 - val_loss: 0.5932 - val_acc: 0.8000\n",
      "Epoch 34/100\n",
      " - 0s - loss: 0.5945 - acc: 0.7912 - val_loss: 0.5919 - val_acc: 0.8000\n",
      "Epoch 35/100\n",
      " - 0s - loss: 0.5931 - acc: 0.8200 - val_loss: 0.5904 - val_acc: 0.8000\n",
      "Epoch 36/100\n",
      " - 0s - loss: 0.5916 - acc: 0.8012 - val_loss: 0.5891 - val_acc: 0.8000\n",
      "Epoch 37/100\n",
      " - 0s - loss: 0.5902 - acc: 0.8038 - val_loss: 0.5877 - val_acc: 0.8000\n",
      "Epoch 38/100\n",
      " - 0s - loss: 0.5889 - acc: 0.8112 - val_loss: 0.5864 - val_acc: 0.8000\n",
      "Epoch 39/100\n",
      " - 0s - loss: 0.5874 - acc: 0.8100 - val_loss: 0.5851 - val_acc: 0.8000\n",
      "Epoch 40/100\n",
      " - 0s - loss: 0.5861 - acc: 0.8175 - val_loss: 0.5838 - val_acc: 0.8050\n",
      "Epoch 41/100\n",
      " - 0s - loss: 0.5847 - acc: 0.8287 - val_loss: 0.5824 - val_acc: 0.8100\n",
      "Epoch 42/100\n",
      " - 0s - loss: 0.5834 - acc: 0.8237 - val_loss: 0.5811 - val_acc: 0.8100\n",
      "Epoch 43/100\n",
      " - 0s - loss: 0.5821 - acc: 0.8312 - val_loss: 0.5798 - val_acc: 0.8100\n",
      "Epoch 44/100\n",
      " - 0s - loss: 0.5808 - acc: 0.8325 - val_loss: 0.5785 - val_acc: 0.8050\n",
      "Epoch 45/100\n",
      " - 0s - loss: 0.5795 - acc: 0.8313 - val_loss: 0.5772 - val_acc: 0.8050\n",
      "Epoch 46/100\n",
      " - 0s - loss: 0.5782 - acc: 0.8338 - val_loss: 0.5760 - val_acc: 0.8050\n",
      "Epoch 47/100\n",
      " - 0s - loss: 0.5769 - acc: 0.8350 - val_loss: 0.5747 - val_acc: 0.8050\n",
      "Epoch 48/100\n",
      " - 0s - loss: 0.5757 - acc: 0.8362 - val_loss: 0.5735 - val_acc: 0.8050\n",
      "Epoch 49/100\n",
      " - 0s - loss: 0.5744 - acc: 0.8362 - val_loss: 0.5723 - val_acc: 0.8100\n",
      "Epoch 50/100\n",
      " - 0s - loss: 0.5731 - acc: 0.8375 - val_loss: 0.5711 - val_acc: 0.8100\n",
      "Epoch 51/100\n",
      " - 0s - loss: 0.5719 - acc: 0.8375 - val_loss: 0.5699 - val_acc: 0.8150\n",
      "Epoch 52/100\n",
      " - 0s - loss: 0.5707 - acc: 0.8375 - val_loss: 0.5687 - val_acc: 0.8200\n",
      "Epoch 53/100\n",
      " - 0s - loss: 0.5694 - acc: 0.8375 - val_loss: 0.5675 - val_acc: 0.8200\n",
      "Epoch 54/100\n",
      " - 0s - loss: 0.5681 - acc: 0.8375 - val_loss: 0.5662 - val_acc: 0.8200\n",
      "Epoch 55/100\n",
      " - 0s - loss: 0.5670 - acc: 0.8387 - val_loss: 0.5651 - val_acc: 0.8200\n",
      "Epoch 56/100\n",
      " - 0s - loss: 0.5658 - acc: 0.8388 - val_loss: 0.5639 - val_acc: 0.8200\n",
      "Epoch 57/100\n",
      " - 0s - loss: 0.5646 - acc: 0.8387 - val_loss: 0.5627 - val_acc: 0.8200\n",
      "Epoch 58/100\n",
      " - 0s - loss: 0.5633 - acc: 0.8400 - val_loss: 0.5616 - val_acc: 0.8200\n",
      "Epoch 59/100\n",
      " - 0s - loss: 0.5622 - acc: 0.8388 - val_loss: 0.5604 - val_acc: 0.8200\n",
      "Epoch 60/100\n",
      " - 0s - loss: 0.5610 - acc: 0.8413 - val_loss: 0.5592 - val_acc: 0.8200\n",
      "Epoch 61/100\n",
      " - 0s - loss: 0.5598 - acc: 0.8412 - val_loss: 0.5581 - val_acc: 0.8200\n",
      "Epoch 62/100\n",
      " - 0s - loss: 0.5586 - acc: 0.8438 - val_loss: 0.5570 - val_acc: 0.8200\n",
      "Epoch 63/100\n",
      " - 0s - loss: 0.5575 - acc: 0.8425 - val_loss: 0.5559 - val_acc: 0.8200\n",
      "Epoch 64/100\n",
      " - 0s - loss: 0.5563 - acc: 0.8438 - val_loss: 0.5547 - val_acc: 0.8200\n",
      "Epoch 65/100\n",
      " - 0s - loss: 0.5552 - acc: 0.8450 - val_loss: 0.5536 - val_acc: 0.8200\n",
      "Epoch 66/100\n",
      " - 0s - loss: 0.5540 - acc: 0.8450 - val_loss: 0.5525 - val_acc: 0.8200\n",
      "Epoch 67/100\n",
      " - 0s - loss: 0.5529 - acc: 0.8462 - val_loss: 0.5514 - val_acc: 0.8200\n",
      "Epoch 68/100\n",
      " - 0s - loss: 0.5518 - acc: 0.8463 - val_loss: 0.5503 - val_acc: 0.8200\n",
      "Epoch 69/100\n",
      " - 0s - loss: 0.5506 - acc: 0.8462 - val_loss: 0.5491 - val_acc: 0.8250\n",
      "Epoch 70/100\n",
      " - 0s - loss: 0.5495 - acc: 0.8463 - val_loss: 0.5480 - val_acc: 0.8250\n",
      "Epoch 71/100\n",
      " - 0s - loss: 0.5484 - acc: 0.8475 - val_loss: 0.5469 - val_acc: 0.8250\n",
      "Epoch 72/100\n",
      " - 0s - loss: 0.5472 - acc: 0.8475 - val_loss: 0.5459 - val_acc: 0.8200\n",
      "Epoch 73/100\n",
      " - 0s - loss: 0.5461 - acc: 0.8475 - val_loss: 0.5448 - val_acc: 0.8200\n",
      "Epoch 74/100\n",
      " - 0s - loss: 0.5450 - acc: 0.8488 - val_loss: 0.5437 - val_acc: 0.8200\n",
      "Epoch 75/100\n",
      " - 0s - loss: 0.5439 - acc: 0.8487 - val_loss: 0.5426 - val_acc: 0.8200\n",
      "Epoch 76/100\n",
      " - 0s - loss: 0.5428 - acc: 0.8500 - val_loss: 0.5416 - val_acc: 0.8200\n",
      "Epoch 77/100\n",
      " - 0s - loss: 0.5417 - acc: 0.8575 - val_loss: 0.5405 - val_acc: 0.8350\n",
      "Epoch 78/100\n",
      " - 0s - loss: 0.5406 - acc: 0.8550 - val_loss: 0.5394 - val_acc: 0.8400\n",
      "Epoch 79/100\n",
      " - 0s - loss: 0.5395 - acc: 0.8762 - val_loss: 0.5383 - val_acc: 0.8450\n",
      "Epoch 80/100\n",
      " - 0s - loss: 0.5385 - acc: 0.8775 - val_loss: 0.5373 - val_acc: 0.8500\n",
      "Epoch 81/100\n",
      " - 0s - loss: 0.5374 - acc: 0.8738 - val_loss: 0.5362 - val_acc: 0.8550\n",
      "Epoch 82/100\n",
      " - 0s - loss: 0.5364 - acc: 0.8812 - val_loss: 0.5352 - val_acc: 0.8600\n",
      "Epoch 83/100\n",
      " - 0s - loss: 0.5353 - acc: 0.8800 - val_loss: 0.5341 - val_acc: 0.8650\n",
      "Epoch 84/100\n",
      " - 0s - loss: 0.5342 - acc: 0.8800 - val_loss: 0.5330 - val_acc: 0.8650\n",
      "Epoch 85/100\n",
      " - 0s - loss: 0.5332 - acc: 0.8800 - val_loss: 0.5319 - val_acc: 0.8700\n",
      "Epoch 86/100\n",
      " - 0s - loss: 0.5321 - acc: 0.8800 - val_loss: 0.5307 - val_acc: 0.8800\n",
      "Epoch 87/100\n",
      " - 0s - loss: 0.5312 - acc: 0.8813 - val_loss: 0.5296 - val_acc: 0.8800\n",
      "Epoch 88/100\n",
      " - 0s - loss: 0.5301 - acc: 0.8837 - val_loss: 0.5286 - val_acc: 0.8850\n",
      "Epoch 89/100\n",
      " - 0s - loss: 0.5291 - acc: 0.8837 - val_loss: 0.5275 - val_acc: 0.8850\n",
      "Epoch 90/100\n",
      " - 0s - loss: 0.5281 - acc: 0.8850 - val_loss: 0.5265 - val_acc: 0.8850\n",
      "Epoch 91/100\n",
      " - 0s - loss: 0.5271 - acc: 0.8837 - val_loss: 0.5254 - val_acc: 0.8850\n",
      "Epoch 92/100\n",
      " - 0s - loss: 0.5260 - acc: 0.8838 - val_loss: 0.5243 - val_acc: 0.8850\n",
      "Epoch 93/100\n",
      " - 0s - loss: 0.5250 - acc: 0.8850 - val_loss: 0.5232 - val_acc: 0.8850\n",
      "Epoch 94/100\n",
      " - 0s - loss: 0.5240 - acc: 0.8900 - val_loss: 0.5222 - val_acc: 0.8850\n",
      "Epoch 95/100\n",
      " - 0s - loss: 0.5230 - acc: 0.8887 - val_loss: 0.5211 - val_acc: 0.8850\n",
      "Epoch 96/100\n",
      " - 0s - loss: 0.5220 - acc: 0.8900 - val_loss: 0.5201 - val_acc: 0.8850\n"
     ]
    },
    {
     "name": "stdout",
     "output_type": "stream",
     "text": [
      "Epoch 97/100\n",
      " - 0s - loss: 0.5210 - acc: 0.8913 - val_loss: 0.5190 - val_acc: 0.8850\n",
      "Epoch 98/100\n",
      " - 0s - loss: 0.5200 - acc: 0.8912 - val_loss: 0.5180 - val_acc: 0.8850\n",
      "Epoch 99/100\n",
      " - 0s - loss: 0.5190 - acc: 0.8938 - val_loss: 0.5169 - val_acc: 0.8850\n",
      "Epoch 100/100\n",
      " - 0s - loss: 0.5180 - acc: 0.8950 - val_loss: 0.5159 - val_acc: 0.8850\n"
     ]
    }
   ],
   "source": [
    "hist = model.fit(X_train, y_train, epochs=100,batch_size=100,verbose=2, shuffle=True ,validation_data=(X_test, y_test))"
   ]
  },
  {
   "cell_type": "code",
   "execution_count": 18,
   "metadata": {},
   "outputs": [],
   "source": [
    "from sklearn.linear_model import LogisticRegression"
   ]
  },
  {
   "cell_type": "code",
   "execution_count": 19,
   "metadata": {},
   "outputs": [],
   "source": [
    "lr = LogisticRegression()"
   ]
  },
  {
   "cell_type": "code",
   "execution_count": 20,
   "metadata": {},
   "outputs": [
    {
     "data": {
      "text/plain": [
       "LogisticRegression(C=1.0, class_weight=None, dual=False, fit_intercept=True,\n",
       "          intercept_scaling=1, max_iter=100, multi_class='ovr', n_jobs=1,\n",
       "          penalty='l2', random_state=None, solver='liblinear', tol=0.0001,\n",
       "          verbose=0, warm_start=False)"
      ]
     },
     "execution_count": 20,
     "metadata": {},
     "output_type": "execute_result"
    }
   ],
   "source": [
    "lr.fit(X_train, y[:split])"
   ]
  },
  {
   "cell_type": "code",
   "execution_count": 21,
   "metadata": {},
   "outputs": [
    {
     "data": {
      "text/plain": [
       "0.42"
      ]
     },
     "execution_count": 21,
     "metadata": {},
     "output_type": "execute_result"
    }
   ],
   "source": [
    "lr.score(X_test, y[split:])"
   ]
  },
  {
   "cell_type": "code",
   "execution_count": 22,
   "metadata": {},
   "outputs": [
    {
     "name": "stdout",
     "output_type": "stream",
     "text": [
      "<class 'keras.engine.sequential.Sequential'>\n"
     ]
    }
   ],
   "source": [
    "print(type(model))"
   ]
  },
  {
   "cell_type": "code",
   "execution_count": 23,
   "metadata": {},
   "outputs": [
    {
     "name": "stdout",
     "output_type": "stream",
     "text": [
      "{'val_loss': [0.6680817008018494, 0.6619903743267059, 0.6565914154052734, 0.6521389484405518, 0.6479358971118927, 0.6439546048641205, 0.6404794752597809, 0.6376370191574097, 0.6350595653057098, 0.6326631605625153, 0.6304914057254791, 0.6283411681652069, 0.6261172592639923, 0.6240187883377075, 0.6219520568847656, 0.6200576424598694, 0.6182131469249725, 0.6164236068725586, 0.6146785914897919, 0.6129849255084991, 0.6113786995410919, 0.6098333597183228, 0.6082727015018463, 0.6067409217357635, 0.6051846742630005, 0.6036308407783508, 0.6021563112735748, 0.6006934344768524, 0.5991848409175873, 0.5977509915828705, 0.5962786674499512, 0.5947489440441132, 0.5932405292987823, 0.5918714702129364, 0.5904106497764587, 0.589136391878128, 0.5877408385276794, 0.5864010751247406, 0.5850638747215271, 0.5838109850883484, 0.5824231803417206, 0.5811223387718201, 0.5797730982303619, 0.5784674882888794, 0.5772392153739929, 0.575972318649292, 0.574722945690155, 0.5735349059104919, 0.5722925066947937, 0.5711042284965515, 0.5699476301670074, 0.5687212347984314, 0.567461222410202, 0.5662380158901215, 0.5651040077209473, 0.5639252364635468, 0.5627263784408569, 0.5615766942501068, 0.5603930354118347, 0.5592167973518372, 0.5580550730228424, 0.556965708732605, 0.5558616816997528, 0.5547187924385071, 0.5535979866981506, 0.5524708926677704, 0.5513854622840881, 0.5502783954143524, 0.5491095185279846, 0.5480051636695862, 0.5469188690185547, 0.5458589792251587, 0.5447796583175659, 0.543701171875, 0.5426269471645355, 0.5415627062320709, 0.5405022501945496, 0.5394228100776672, 0.5383448004722595, 0.537320464849472, 0.5362119972705841, 0.5352007746696472, 0.5341016948223114, 0.532982587814331, 0.5318785309791565, 0.5307244956493378, 0.5296487212181091, 0.5285568833351135, 0.5274890065193176, 0.5264596939086914, 0.5253867208957672, 0.5243249535560608, 0.5232369601726532, 0.5221885442733765, 0.5211423933506012, 0.5200669467449188, 0.5190125107765198, 0.5179659426212311, 0.5169489979743958, 0.5159493088722229], 'val_acc': [0.5799999833106995, 0.6150000095367432, 0.6450000107288361, 0.6649999916553497, 0.6749999821186066, 0.7199999988079071, 0.7400000095367432, 0.7450000047683716, 0.7399999797344208, 0.7450000047683716, 0.75, 0.7600000202655792, 0.7550000250339508, 0.7550000250339508, 0.7550000250339508, 0.7550000250339508, 0.7549999952316284, 0.7549999952316284, 0.7549999952316284, 0.75, 0.75, 0.7599999904632568, 0.7599999904632568, 0.7700000107288361, 0.7700000107288361, 0.7700000107288361, 0.7800000011920929, 0.7800000011920929, 0.7899999916553497, 0.7899999916553497, 0.7949999868869781, 0.7949999868869781, 0.800000011920929, 0.800000011920929, 0.800000011920929, 0.800000011920929, 0.800000011920929, 0.800000011920929, 0.800000011920929, 0.8050000071525574, 0.8100000023841858, 0.8100000023841858, 0.8100000023841858, 0.8050000071525574, 0.8050000071525574, 0.8050000071525574, 0.8050000071525574, 0.8050000071525574, 0.8100000023841858, 0.8100000023841858, 0.8149999976158142, 0.8199999928474426, 0.8199999928474426, 0.8199999928474426, 0.8199999928474426, 0.8199999928474426, 0.8199999928474426, 0.8199999928474426, 0.8199999928474426, 0.8199999928474426, 0.8199999928474426, 0.8199999928474426, 0.8199999928474426, 0.8199999928474426, 0.8199999928474426, 0.8199999928474426, 0.8199999928474426, 0.8199999928474426, 0.824999988079071, 0.824999988079071, 0.824999988079071, 0.8199999928474426, 0.8199999928474426, 0.8199999928474426, 0.8199999928474426, 0.8199999928474426, 0.8349999785423279, 0.8400000035762787, 0.8449999988079071, 0.8499999940395355, 0.8549999892711639, 0.8600000143051147, 0.8650000095367432, 0.8650000095367432, 0.8700000047683716, 0.8799999952316284, 0.8799999952316284, 0.8849999904632568, 0.8849999904632568, 0.8849999904632568, 0.8849999904632568, 0.8849999904632568, 0.8849999904632568, 0.8849999904632568, 0.8849999904632568, 0.8849999904632568, 0.8849999904632568, 0.8849999904632568, 0.8849999904632568, 0.8849999904632568], 'loss': [0.6812464147806168, 0.6717788800597191, 0.6656845211982727, 0.6606879234313965, 0.6562822014093399, 0.6515428200364113, 0.6474536508321762, 0.643949069082737, 0.640833355486393, 0.6380803510546684, 0.6358295306563377, 0.6334294080734253, 0.6311885118484497, 0.6290003582835197, 0.626826323568821, 0.6246292740106583, 0.6226637735962868, 0.6207154020667076, 0.6187873482704163, 0.6169531345367432, 0.6151705533266068, 0.6133757755160332, 0.6116154342889786, 0.6099862903356552, 0.6083547472953796, 0.606683261692524, 0.6050546541810036, 0.6034602299332619, 0.6019068881869316, 0.6003637835383415, 0.5988478362560272, 0.5973664149641991, 0.595940001308918, 0.5944515988230705, 0.5930590853095055, 0.5915845334529877, 0.5902202427387238, 0.5888589769601822, 0.5874435380101204, 0.5860984623432159, 0.5847487598657608, 0.583431750535965, 0.5820889323949814, 0.5807850360870361, 0.579481340944767, 0.5781746581196785, 0.5769107937812805, 0.5756669119000435, 0.5743643417954445, 0.5731237083673477, 0.5718704909086227, 0.5706944763660431, 0.5694498494267464, 0.5681334063410759, 0.5669842883944511, 0.5658133924007416, 0.5645503774285316, 0.5633305087685585, 0.5621877536177635, 0.5610375478863716, 0.5597977191209793, 0.5586330890655518, 0.5574652999639511, 0.5563348233699799, 0.5552460625767708, 0.5540004149079323, 0.5528682321310043, 0.551844909787178, 0.5506185218691826, 0.5494503974914551, 0.5483851358294487, 0.5472485274076462, 0.5461340472102165, 0.5450044944882393, 0.5438561365008354, 0.5427947118878365, 0.5417460426688194, 0.5406220257282257, 0.5395256653428078, 0.5385414958000183, 0.5373646095395088, 0.5363660305738449, 0.5352842099964619, 0.5341941565275192, 0.5331912487745285, 0.53214031457901, 0.5311800912022591, 0.5301467180252075, 0.5290888547897339, 0.5280541628599167, 0.5270517915487289, 0.5260394215583801, 0.5250311195850372, 0.5239996761083603, 0.5230471938848495, 0.5219814628362656, 0.5210089087486267, 0.5200234316289425, 0.519046988338232, 0.5180285088717937], 'acc': [0.5212499983608723, 0.5737499967217445, 0.6162500008940697, 0.6375000029802322, 0.65625, 0.6887500062584877, 0.7387499958276749, 0.7424999922513962, 0.7387499958276749, 0.7412500008940697, 0.7525000050663948, 0.7487500011920929, 0.7512499988079071, 0.7575000002980232, 0.7574999928474426, 0.7587499991059303, 0.7587500065565109, 0.7637499943375587, 0.7687499895691872, 0.7724999859929085, 0.7725000008940697, 0.7749999985098839, 0.7724999934434891, 0.7750000059604645, 0.7825000062584877, 0.7837500050663948, 0.7849999889731407, 0.7850000113248825, 0.7912500128149986, 0.7887500077486038, 0.7887500077486038, 0.8012499883770943, 0.8050000071525574, 0.7912499904632568, 0.8199999928474426, 0.8012499958276749, 0.8037500008940697, 0.8112499937415123, 0.8099999949336052, 0.817500002682209, 0.8287499994039536, 0.8237499967217445, 0.8312499895691872, 0.8325000107288361, 0.8312500044703484, 0.8337500020861626, 0.8349999859929085, 0.8362499997019768, 0.8362499997019768, 0.8374999985098839, 0.8374999985098839, 0.8374999985098839, 0.8374999985098839, 0.8374999985098839, 0.838749997317791, 0.8387500047683716, 0.8387499898672104, 0.8399999886751175, 0.8387500047683716, 0.8412500023841858, 0.8412499949336052, 0.84375, 0.8424999937415123, 0.8437500074505806, 0.8450000062584877, 0.8449999913573265, 0.8462499976158142, 0.8462500050663948, 0.8462499976158142, 0.8462500050663948, 0.8474999889731407, 0.8475000038743019, 0.8474999964237213, 0.848750002682209, 0.8487499952316284, 0.8500000089406967, 0.8575000017881393, 0.8549999892711639, 0.8762499988079071, 0.8775000050663948, 0.8737500011920929, 0.8812499940395355, 0.8800000101327896, 0.880000002682209, 0.8799999952316284, 0.8800000101327896, 0.8812500014901161, 0.8837499991059303, 0.8837499991059303, 0.885000005364418, 0.8837499991059303, 0.8837500065565109, 0.885000005364418, 0.8899999931454659, 0.8887499943375587, 0.890000008046627, 0.8912500068545341, 0.8912499994039536, 0.8937500044703484, 0.8949999958276749]}\n"
     ]
    }
   ],
   "source": [
    "data = hist.history\n",
    "print(data)"
   ]
  },
  {
   "cell_type": "code",
   "execution_count": 24,
   "metadata": {},
   "outputs": [
    {
     "data": {
      "image/png": "[encoded data removed]",
      "text/plain": [
       "<Figure size 432x288 with 1 Axes>"
      ]
     },
     "metadata": {},
     "output_type": "display_data"
    }
   ],
   "source": [
    "plt.plot(data['loss'])\n",
    "plt.plot(data['val_loss'])\n",
    "plt.show()"
   ]
  }
 ],
 "metadata": {
  "kernelspec": {
   "display_name": "Python 3",
   "language": "python",
   "name": "python3"
  },
  "language_info": {
   "codemirror_mode": {
    "name": "ipython",
    "version": 3
   },
   "file_extension": ".py",
   "mimetype": "text/x-python",
   "name": "python",
   "nbconvert_exporter": "python",
   "pygments_lexer": "ipython3",
   "version": "3.6.5"
  }
 },
 "nbformat": 4,
 "nbformat_minor": 2
}
